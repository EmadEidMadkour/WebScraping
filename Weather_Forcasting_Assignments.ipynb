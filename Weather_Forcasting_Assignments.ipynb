{
 "cells": [
  {
   "cell_type": "code",
   "execution_count": 5,
   "metadata": {
    "id": "N0N1OpdoxcHs"
   },
   "outputs": [],
   "source": [
    "import requests\n",
    "from bs4 import BeautifulSoup"
   ]
  },
  {
   "cell_type": "code",
   "execution_count": 6,
   "metadata": {
    "id": "NDBFHLFyxsB9"
   },
   "outputs": [],
   "source": [
    "response=requests.get(\"https://forecast.weather.gov/MapClick.php?lat=37.7772&lon=-122.4168\")"
   ]
  },
  {
   "cell_type": "code",
   "execution_count": 7,
   "metadata": {
    "id": "vq1S1EeuyITU"
   },
   "outputs": [],
   "source": [
    "soup=BeautifulSoup(response.text,\"html.parser\")"
   ]
  },
  {
   "cell_type": "code",
   "execution_count": null,
   "metadata": {
    "colab": {
     "base_uri": "https://localhost:8080/",
     "height": 36
    },
    "id": "E_Z32kmey-yf",
    "outputId": "cd886ece-38ff-4f1e-abd7-e0cb395ddfb6"
   },
   "outputs": [
    {
     "data": {
      "application/vnd.google.colaboratory.intrinsic+json": {
       "type": "string"
      },
      "text/plain": [
       "'Today'"
      ]
     },
     "execution_count": 22,
     "metadata": {},
     "output_type": "execute_result"
    }
   ],
   "source": [
    "soup.find_all(\"div\", attrs={\"class\":\"tombstone-container\"})[0].find_all(\"p\", attrs={\"class\":\"period-name\"})[0].get_text()"
   ]
  },
  {
   "cell_type": "code",
   "execution_count": null,
   "metadata": {
    "colab": {
     "base_uri": "https://localhost:8080/"
    },
    "id": "y2HTSrRcwnko",
    "outputId": "1a77aefb-946a-418a-ebc8-4e93e9ce810d"
   },
   "outputs": [
    {
     "name": "stdout",
     "output_type": "stream",
     "text": [
      "18.333333333333336 c°\n",
      "18.333333333333336 c°\n",
      "21.11111111111111 c°\n",
      "21.11111111111111 c°\n",
      "21.11111111111111 c°\n"
     ]
    }
   ],
   "source": [
    "for item in soup.find_all(\"ul\",attrs={\"id\":\"seven-day-forecast-list\"})[0].find_all(\"p\",attrs={\"class\":\"temp temp-high\"}):\n",
    "    print((float(item.get_text().split(\" \")[1])-32)*(5/9),\"c°\")"
   ]
  },
  {
   "cell_type": "code",
   "execution_count": null,
   "metadata": {
    "id": "5Kd_asr_TUU_"
   },
   "outputs": [],
   "source": []
  },
  {
   "cell_type": "code",
   "execution_count": null,
   "metadata": {
    "colab": {
     "base_uri": "https://localhost:8080/"
    },
    "id": "GVNjwK4eJRpS",
    "outputId": "e45ed3e2-36dc-42a9-fe11-e8ba8fbd7a08"
   },
   "outputs": [
    {
     "name": "stdout",
     "output_type": "stream",
     "text": [
      "Today\n",
      "Tonight\n",
      "Saturday\n",
      "Saturday Night\n",
      "Sunday\n",
      "Sunday Night\n",
      "Monday\n",
      "Monday Night\n",
      "Tuesday\n"
     ]
    }
   ],
   "source": [
    "for day in soup.find_all(\"ul\",attrs={\"id\":\"seven-day-forecast-list\"})[0]:\n",
    "    print(day.find_all(\"p\", attrs={\"class\":\"period-name\"})[0].get_text())"
   ]
  },
  {
   "cell_type": "code",
   "execution_count": 126,
   "metadata": {
    "colab": {
     "base_uri": "https://localhost:8080/"
    },
    "id": "0_sfQrQ5TWpl",
    "outputId": "15913fa1-2b9f-44dd-f17d-6f2590a5be1e"
   },
   "outputs": [
    {
     "name": "stdout",
     "output_type": "stream",
     "text": [
      "65\n",
      "65\n",
      "70\n",
      "70\n",
      "70\n"
     ]
    }
   ],
   "source": [
    "for item in soup.find_all(\"ul\",attrs={\"id\":\"seven-day-forecast-list\"})[0]:\n",
    "    for it in item.find_all(\"p\",attrs={\"class\":\"temp temp-high\"}):\n",
    "       temp=it.get_text().split(\" \")[1]\n"
   ]
  },
  {
   "cell_type": "code",
   "execution_count": null,
   "metadata": {},
   "outputs": [],
   "source": [
    "for item in soup.find_all(\"ul\",attrs={\"id\":\"seven-day-forecast-list\"})[0]:\n",
    "    day=item.find_all(\"p\", attrs={\"class\":\"period-name\"})[0].get_text()\n",
    "    for it in item.find_all(\"p\",attrs={\"class\":\"temp temp-high\"}):\n",
    "       temp=it.get_text().split(\" \")[1]\n"
   ]
  },
  {
   "cell_type": "code",
   "execution_count": 10,
   "metadata": {
    "id": "rvkHHF3LUoqN"
   },
   "outputs": [],
   "source": [
    "import csv\n",
    "with open(\"weather.csv\",\"w\", newline=\"\") as file:\n",
    "    writer=csv.DictWriter(file,fieldnames=[\"day\",\"temp\"])\n",
    "    writer.writeheader()\n",
    "    for item in soup.find_all(\"ul\",attrs={\"id\":\"seven-day-forecast-list\"})[0]:\n",
    "        day=item.find_all(\"p\", attrs={\"class\":\"period-name\"})[0].get_text()\n",
    "        for it in item.find_all(\"p\",attrs={\"class\":\"temp temp-high\"}):\n",
    "           temp=(int(it.get_text().split(\" \")[1])-32)*(5/9)\n",
    "        writer.writerow({\"day\":day,\"temp\":temp})\n"
   ]
  }
 ],
 "metadata": {
  "colab": {
   "provenance": []
  },
  "kernelspec": {
   "display_name": "Python 3 (ipykernel)",
   "language": "python",
   "name": "python3"
  },
  "language_info": {
   "codemirror_mode": {
    "name": "ipython",
    "version": 3
   },
   "file_extension": ".py",
   "mimetype": "text/x-python",
   "name": "python",
   "nbconvert_exporter": "python",
   "pygments_lexer": "ipython3",
   "version": "3.10.13"
  }
 },
 "nbformat": 4,
 "nbformat_minor": 4
}
